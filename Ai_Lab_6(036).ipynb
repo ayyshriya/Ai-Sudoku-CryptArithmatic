{
  "nbformat": 4,
  "nbformat_minor": 0,
  "metadata": {
    "colab": {
      "name": "Ai Lab 6(036).ipynb",
      "provenance": [],
      "collapsed_sections": []
    },
    "kernelspec": {
      "name": "python3",
      "display_name": "Python 3"
    },
    "language_info": {
      "name": "python"
    }
  },
  "cells": [
    {
      "cell_type": "code",
      "execution_count": null,
      "metadata": {
        "colab": {
          "base_uri": "https://localhost:8080/"
        },
        "id": "rPEJos3Vb1BO",
        "outputId": "2b98ece2-dcf4-4766-f028-21ec3a779464"
      },
      "outputs": [
        {
          "name": "stdout",
          "output_type": "stream",
          "text": [
            "sudoku output\n",
            "\n",
            "\n",
            "[9, 6, 5, 4, 2, 1, 7, 3, 8]\n",
            "[4, 3, 8, 5, 7, 9, 1, 2, 6]\n",
            "[1, 2, 7, 6, 3, 8, 9, 4, 5]\n",
            "[8, 9, 6, 7, 4, 3, 5, 1, 2]\n",
            "[7, 5, 4, 2, 1, 6, 3, 8, 9]\n",
            "[2, 1, 3, 9, 8, 5, 6, 7, 4]\n",
            "[6, 8, 1, 3, 5, 4, 2, 9, 7]\n",
            "[3, 7, 9, 8, 6, 2, 4, 5, 1]\n",
            "[5, 4, 2, 1, 9, 7, 8, 6, 3]\n",
            "\n",
            "\n",
            "Enter any key to exita\n"
          ]
        }
      ],
      "source": [
        "from constraint import *\n",
        "\n",
        "\n",
        "def dataNormalize (data):\n",
        "    sudoku_nums = [ eachPos[1] for eachPos in sorted( data[0].items() ) ]\n",
        "    for step in range(0,81,9):\n",
        "        print(sudoku_nums[step:step+9])\n",
        "\n",
        "\n",
        "def sudoku_solve ():\n",
        "    puzzleNums = open(\"/content/puzzle.txt\").read()\n",
        "    puzzleNums = [ int(eachNum) for eachNum in puzzleNums.split() ]\n",
        "    sudoku = Problem( RecursiveBacktrackingSolver() )\n",
        "    sudokuIndex = [ (row, col) for row in range(9) for col in range(9) ]\n",
        "    for eachIndex,eachNum in zip(sudokuIndex, puzzleNums):\n",
        "        if eachNum == 0:\n",
        "            sudoku.addVariable(eachIndex, range(1,10) )\n",
        "        else:\n",
        "            sudoku.addVariable(eachIndex, [eachNum] )\n",
        "\n",
        "\n",
        "    var = 0\n",
        "    for aCount in range(9):\n",
        "        rowIndices = [ (var, col) for col in range(9) ]\n",
        "        sudoku.addConstraint( AllDifferentConstraint(), rowIndices )\n",
        "        colIndices = [ (row, var) for row in range(9) ]\n",
        "        sudoku.addConstraint( AllDifferentConstraint(), colIndices )\n",
        "        var+=1\n",
        "\n",
        "    rowStep = 0\n",
        "    colStep = 0\n",
        "    while rowStep < 9:\n",
        "        colStep = 0\n",
        "        while colStep < 9:\n",
        "            boxIndices = [ (row, col) for row in range(rowStep, rowStep+3) \\\n",
        "                            for col in range(colStep, colStep+3)]\n",
        "            # Adding constraint\n",
        "            # No two numbers in the box should be same\n",
        "            sudoku.addConstraint( AllDifferentConstraint(), boxIndices )\n",
        "            colStep+=3\n",
        "        rowStep+=3\n",
        "    # return the solution\n",
        "    return sudoku.getSolutions()\n",
        "\n",
        "if __name__ == '__main__':\n",
        "    print (\"sudoku output\\n\\n\")\n",
        "    dataNormalize( sudoku_solve() )\n",
        "    input(\"\\n\\nEnter any key to exit\")"
      ]
    },
    {
      "cell_type": "code",
      "source": [
        "pip install python-constraint"
      ],
      "metadata": {
        "colab": {
          "base_uri": "https://localhost:8080/"
        },
        "id": "lH8OzpjgcevQ",
        "outputId": "edf052f2-9860-4e7b-efad-6a0f1c22c63a"
      },
      "execution_count": null,
      "outputs": [
        {
          "output_type": "stream",
          "name": "stdout",
          "text": [
            "Collecting python-constraint\n",
            "  Downloading python-constraint-1.4.0.tar.bz2 (18 kB)\n",
            "Building wheels for collected packages: python-constraint\n",
            "  Building wheel for python-constraint (setup.py) ... \u001b[?25l\u001b[?25hdone\n",
            "  Created wheel for python-constraint: filename=python_constraint-1.4.0-py2.py3-none-any.whl size=24081 sha256=94ed232b865d1d10572bb517c0dd5a1582c2ee6a7b9b220158d63d6ece609491\n",
            "  Stored in directory: /root/.cache/pip/wheels/07/27/db/1222c80eb1e431f3d2199c12569cb1cac60f562a451fe30479\n",
            "Successfully built python-constraint\n",
            "Installing collected packages: python-constraint\n",
            "Successfully installed python-constraint-1.4.0\n"
          ]
        }
      ]
    }
  ]
}